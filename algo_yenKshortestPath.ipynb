{
  "nbformat": 4,
  "nbformat_minor": 0,
  "metadata": {
    "colab": {
      "provenance": [],
      "authorship_tag": "ABX9TyPWXJqjtVdyhMoekBzGdkvS",
      "include_colab_link": true
    },
    "kernelspec": {
      "name": "python3",
      "display_name": "Python 3"
    },
    "language_info": {
      "name": "python"
    }
  },
  "cells": [
    {
      "cell_type": "markdown",
      "metadata": {
        "id": "view-in-github",
        "colab_type": "text"
      },
      "source": [
        "<a href=\"https://colab.research.google.com/github/Manish19629/Algorithms/blob/main/algo_yenKshortestPath.ipynb\" target=\"_parent\"><img src=\"https://colab.research.google.com/assets/colab-badge.svg\" alt=\"Open In Colab\"/></a>"
      ]
    },
    {
      "cell_type": "code",
      "execution_count": 2,
      "metadata": {
        "colab": {
          "base_uri": "https://localhost:8080/"
        },
        "id": "At_sKg7y78Ds",
        "outputId": "287a5b99-0d44-4e0e-e650-12add6d2fe5e"
      },
      "outputs": [
        {
          "output_type": "stream",
          "name": "stdout",
          "text": [
            "Mounted at /content/drive\n"
          ]
        }
      ],
      "source": [
        "from google.colab import drive\n",
        "drive.mount('/content/drive')"
      ]
    },
    {
      "cell_type": "code",
      "source": [
        "import nbformat\n",
        "\n",
        "# Define the path to the file in Google Drive\n",
        "file_path = '/content/drive/MyDrive/shortest distance/Networks.ipynb'\n",
        "\n",
        "# Load the notebook\n",
        "with open(file_path) as f:\n",
        "    notebook = nbformat.read(f, as_version=4)\n",
        "\n",
        "# Execute the notebook cells to load the networks into the current session\n",
        "exec(\"\\n\".join(cell['source'] for cell in notebook.cells if cell.cell_type == 'code'))\n"
      ],
      "metadata": {
        "id": "on9qjtt68N_8"
      },
      "execution_count": 3,
      "outputs": []
    },
    {
      "cell_type": "code",
      "source": [
        "import networkx as nx\n",
        "\n",
        "# Select the network and set up the graph in NetworkX\n",
        "# Mesh Networks: mesh\n",
        "# Torus Networks: torus\n",
        "# Gaussian Networks: gaussian | Gaussian8Plus9 | Gaussian8Plus11 | Gaussian9Plus9 | Gaussian8Plus10 | Gaussian7Plus13\n",
        "# EJ Networks: EJ8Plus9 | EJ7Plus10 | EJ5Plus12 | EJ9Plus9 | EJ5Plus13\n",
        "# Cube-Connected Cycles Networks: CCC4D\n",
        "# Hypercube Networks: HC5D\n",
        "# Airport Dataset: Airport\n",
        "# Airport Dataset: Maps150\n",
        "# testNetwork = Maps150AA\n",
        "# testNetwork = Maps250\n",
        "# testNetwork = CCC4D\n",
        "# testNetwork = gaussian\n",
        "# testNetwork = Airport\n",
        "selected_network = gaussian  # Change to your desired network (e.g., 'torus', 'gaussian')\n",
        "\n",
        "G = nx.Graph()\n",
        "G.add_nodes_from(selected_network.Nodes)\n",
        "G.add_edges_from(selected_network.Edges)"
      ],
      "metadata": {
        "id": "gzLrc9gy8WRc"
      },
      "execution_count": 18,
      "outputs": []
    },
    {
      "cell_type": "code",
      "source": [
        "from heapq import heappush, heappop\n",
        "from copy import deepcopy\n",
        "\n",
        "def yen_k_shortest_paths(G, source, destination, K):\n",
        "    # List to store the K shortest paths\n",
        "    paths = []\n",
        "\n",
        "    # First, find the shortest path using BFS (as the graph is unweighted)\n",
        "    try:\n",
        "        shortest_path = nx.shortest_path(G, source=source, target=destination)\n",
        "        shortest_path_length = len(shortest_path) - 1  # Path length is the number of edges\n",
        "    except nx.NetworkXNoPath:\n",
        "        print(\"No path found between source and destination.\")\n",
        "        return []\n",
        "\n",
        "    paths.append((shortest_path_length, shortest_path))\n",
        "\n",
        "    # List to store potential K-shortest paths\n",
        "    potential_paths = []\n",
        "\n",
        "    for k in range(1, K):\n",
        "        for i in range(len(paths[k - 1][1]) - 1):\n",
        "            spur_node = paths[k - 1][1][i]\n",
        "            root_path = paths[k - 1][1][:i + 1]\n",
        "\n",
        "            # Temporarily remove edges and nodes to simulate spur path\n",
        "            removed_edges = []\n",
        "            for path_cost, path in paths:\n",
        "                if path[:i + 1] == root_path:\n",
        "                    edge = (path[i], path[i + 1])\n",
        "                    if G.has_edge(*edge):\n",
        "                        removed_edges.append(edge)\n",
        "                        G.remove_edge(*edge)\n",
        "\n",
        "            # Find the spur path from spur_node to destination\n",
        "            try:\n",
        "                spur_path = nx.shortest_path(G, source=spur_node, target=destination)\n",
        "                total_path = root_path[:-1] + spur_path\n",
        "                total_path_length = len(total_path) - 1  # Unweighted path length\n",
        "                heappush(potential_paths, (total_path_length, total_path))\n",
        "            except nx.NetworkXNoPath:\n",
        "                continue\n",
        "\n",
        "            # Restore edges\n",
        "            for edge in removed_edges:\n",
        "                G.add_edge(*edge)\n",
        "\n",
        "        # If there are no more potential paths, break\n",
        "        if not potential_paths:\n",
        "            break\n",
        "\n",
        "        # Get the shortest path in the potential_paths heap\n",
        "        new_path_length, new_path = heappop(potential_paths)\n",
        "        paths.append((new_path_length, new_path))\n",
        "\n",
        "    return [path for length, path in paths]\n",
        "\n",
        "# Example of running the modified Yen's K-Shortest Paths on the selected network\n",
        "# beginDiscovery(G, '0,0','7,2')\n",
        "# beginDiscovery(G, 'N0','N-1-3i')\n",
        "# beginDiscovery(G, 'DVO','DEL')\n",
        "#beginDiscovery(G, '11267375817','11267375817')\n",
        "source = 'N0'  # Define source based on the network\n",
        "destination = 'N-1-3i'  # Define destination based on the network\n",
        "K = 3  # Define the number of shortest paths you want\n",
        "\n",
        "# Execute Yen's K-Shortest Paths\n",
        "k_shortest_paths = yen_k_shortest_paths(G, source, destination, K)\n",
        "print(\"K-Shortest Paths:\", k_shortest_paths)\n"
      ],
      "metadata": {
        "colab": {
          "base_uri": "https://localhost:8080/"
        },
        "id": "gr_xXmVk8bfE",
        "outputId": "7b97a415-2e16-4d47-b068-e9678fa713db"
      },
      "execution_count": 19,
      "outputs": [
        {
          "output_type": "stream",
          "name": "stdout",
          "text": [
            "K-Shortest Paths: [['N0', 'N-1', 'N-1-i', 'N-1-2i', 'N-1-3i'], ['N0', 'N-i', 'N-1-i', 'N-1-2i', 'N-1-3i'], ['N0', 'N-i', 'N-2i', 'N-1-2i', 'N-1-3i']]\n"
          ]
        }
      ]
    }
  ]
}