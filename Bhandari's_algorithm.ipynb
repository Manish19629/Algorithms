{
  "nbformat": 4,
  "nbformat_minor": 0,
  "metadata": {
    "colab": {
      "provenance": [],
      "authorship_tag": "ABX9TyNUghJ+cTyJVzGntYqairn6",
      "include_colab_link": true
    },
    "kernelspec": {
      "name": "python3",
      "display_name": "Python 3"
    },
    "language_info": {
      "name": "python"
    }
  },
  "cells": [
    {
      "cell_type": "markdown",
      "metadata": {
        "id": "view-in-github",
        "colab_type": "text"
      },
      "source": [
        "<a href=\"https://colab.research.google.com/github/Manish19629/Algorithms/blob/main/Bhandari's_algorithm.ipynb\" target=\"_parent\"><img src=\"https://colab.research.google.com/assets/colab-badge.svg\" alt=\"Open In Colab\"/></a>"
      ]
    },
    {
      "cell_type": "code",
      "execution_count": 1,
      "metadata": {
        "colab": {
          "base_uri": "https://localhost:8080/"
        },
        "id": "OHrOePRsc3Yk",
        "outputId": "54cbc7cf-2a47-4c32-febe-7c286031b9fe"
      },
      "outputs": [
        {
          "output_type": "stream",
          "name": "stdout",
          "text": [
            "Mounted at /content/drive\n"
          ]
        }
      ],
      "source": [
        "from google.colab import drive\n",
        "drive.mount('/content/drive')\n"
      ]
    },
    {
      "cell_type": "code",
      "source": [
        "from networkx import Graph\n",
        "import networkx as nx\n",
        "from copy import deepcopy"
      ],
      "metadata": {
        "id": "e9F6E3IIeNUh"
      },
      "execution_count": 2,
      "outputs": []
    },
    {
      "cell_type": "code",
      "source": [
        "import nbformat\n",
        "\n",
        "# Define the path to the file in Google Drive\n",
        "file_path = '/content/drive/MyDrive/shortest distance/Networks.ipynb'\n",
        "\n",
        "# Load the notebook\n",
        "with open(file_path) as f:\n",
        "    notebook = nbformat.read(f, as_version=4)\n",
        "\n",
        "# Execute the notebook cells to load the networks into the current session\n",
        "exec(\"\\n\".join(cell['source'] for cell in notebook.cells if cell.cell_type == 'code'))\n"
      ],
      "metadata": {
        "id": "_SwobPsAgXHU"
      },
      "execution_count": 4,
      "outputs": []
    },
    {
      "cell_type": "code",
      "source": [
        "import networkx as nx\n",
        "\n",
        "# Select the network and set up the graph in NetworkX\n",
        "# Mesh Networks: mesh\n",
        "# Torus Networks: torus\n",
        "# Gaussian Networks: gaussian | Gaussian8Plus9 | Gaussian8Plus11 | Gaussian9Plus9 | Gaussian8Plus10 | Gaussian7Plus13\n",
        "# EJ Networks: EJ8Plus9 | EJ7Plus10 | EJ5Plus12 | EJ9Plus9 | EJ5Plus13\n",
        "# Cube-Connected Cycles Networks: CCC4D\n",
        "# Hypercube Networks: HC5D\n",
        "# Airport Dataset: Airport\n",
        "# Airport Dataset: Maps150\n",
        "# testNetwork = Maps150AA\n",
        "# testNetwork = Maps250\n",
        "# testNetwork = CCC4D\n",
        "# testNetwork = gaussian\n",
        "# testNetwork = Airport\n",
        "selected_network = gaussian  # Change to your desired network (e.g., 'torus', 'gaussian')\n",
        "\n",
        "G = nx.Graph()\n",
        "G.add_nodes_from(selected_network.Nodes)\n",
        "G.add_edges_from(selected_network.Edges)"
      ],
      "metadata": {
        "id": "hEXqwJPdfYs1"
      },
      "execution_count": 5,
      "outputs": []
    },
    {
      "cell_type": "code",
      "source": [
        "\n",
        "def suurballe_disjoint_paths(G, source, destination):\n",
        "    # Step 1: Find the initial shortest path\n",
        "    try:\n",
        "        shortest_path = nx.shortest_path(G, source=source, target=destination)\n",
        "    except nx.NetworkXNoPath:\n",
        "        print(\"No path found between source and destination.\")\n",
        "        return []\n",
        "\n",
        "    # Step 2: Reverse the edges in the shortest path\n",
        "    # Make a deepcopy of the graph to modify edges\n",
        "    G_tmp = deepcopy(G)\n",
        "    for i in range(len(shortest_path) - 1):\n",
        "        u, v = shortest_path[i], shortest_path[i + 1]\n",
        "        # Remove original edge and add reversed edge in G_tmp\n",
        "        if G_tmp.has_edge(u, v):\n",
        "            G_tmp.remove_edge(u, v)\n",
        "            G_tmp.add_edge(v, u)\n",
        "\n",
        "    # Step 3: Find the second shortest path in the modified graph\n",
        "    try:\n",
        "        second_path = nx.shortest_path(G_tmp, source=source, target=destination)\n",
        "    except nx.NetworkXNoPath:\n",
        "        print(\"No second path found.\")\n",
        "        return [shortest_path]  # Return only the first path if no disjoint path exists\n",
        "\n",
        "    # Step 4: Combine paths to ensure disjoint paths\n",
        "    disjoint_paths = [shortest_path]\n",
        "    for node in second_path[1:-1]:  # Ignore source and destination\n",
        "        if node not in shortest_path:\n",
        "            disjoint_paths.append(second_path)\n",
        "            break\n",
        "\n",
        "    # Final adjustment: Remove any duplicate edges/nodes between the paths to ensure disjoint paths\n",
        "    unique_paths = []\n",
        "    for path in disjoint_paths:\n",
        "        if path not in unique_paths:\n",
        "            unique_paths.append(path)\n",
        "\n",
        "    return unique_paths\n",
        "\n",
        "# Usage example\n",
        "# Define the network in Google Drive or Colab environment as G\n",
        "# G = nx.Graph()\n",
        "# # Manually adding nodes and edges as an example, use G.add_nodes_from() and G.add_edges_from() with your dataset\n",
        "# G.add_edges_from([(1, 2), (2, 3), (3, 4), (1, 4), (1, 3)])  # Replace this with your dataset input\n",
        "\n",
        "# # Define the source and destination\n",
        "# Example of running the modified Yen's K-Shortest Paths on the selected network\n",
        "# beginDiscovery(G, '0,0','7,2')\n",
        "# beginDiscovery(G, 'N0','N-1-3i')\n",
        "# beginDiscovery(G, 'DVO','DEL')\n",
        "#beginDiscovery(G, '11267375817','11267375817')\n",
        "source = 'N0'  # Define source based on the network\n",
        "destination = 'N-1-3i'  # Define destination based on the network\n",
        "\n",
        "# Get the disjoint paths\n",
        "disjoint_paths = suurballe_disjoint_paths(G, source, destination)\n",
        "print(\"Disjoint paths:\", disjoint_paths)\n"
      ],
      "metadata": {
        "colab": {
          "base_uri": "https://localhost:8080/"
        },
        "id": "0eIhg8-4fclt",
        "outputId": "d45c6f72-d722-4924-c1bd-e9f5a55859a3"
      },
      "execution_count": 6,
      "outputs": [
        {
          "output_type": "stream",
          "name": "stdout",
          "text": [
            "Disjoint paths: [['N0', 'N-1', 'N-1-i', 'N-1-2i', 'N-1-3i'], ['N0', 'N-i', 'N-2i', 'N-3i', 'N-1-3i']]\n"
          ]
        }
      ]
    }
  ]
}